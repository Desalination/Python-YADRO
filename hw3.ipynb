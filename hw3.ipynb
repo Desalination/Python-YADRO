{
  "cells": [
    {
      "cell_type": "markdown",
      "id": "6e02831b",
      "metadata": {
        "id": "6e02831b"
      },
      "source": [
        "# Сжатие языковой модели"
      ]
    },
    {
      "cell_type": "markdown",
      "id": "6fc13ca5",
      "metadata": {
        "id": "6fc13ca5"
      },
      "source": [
        "## Порядок сдачи домашнего"
      ]
    },
    {
      "cell_type": "markdown",
      "id": "81e4496d",
      "metadata": {
        "ExecuteTime": {
          "end_time": "2024-10-07T06:07:46.064030Z",
          "start_time": "2024-10-07T06:07:46.041743Z"
        },
        "id": "81e4496d"
      },
      "source": [
        "Под каждое домашнее вы создаете отдельную ветку куда вносите все изменения в рамках домашнего. Как только домашнее готово - создаете пулл реквест (обратите внимание что в пулл реквесте должны быть отражены все изменения в рамках домашнего). Ревьювера назначаете из таблицы - https://docs.google.com/spreadsheets/d/1vK6IgEqaqXniUJAQOOspiL_tx3EYTSXW1cUrMHAZFr8/edit?gid=0#gid=0\n",
        "Перед сдачей проверьте код, напишите тесты. Не забудьте про PEP8, например, с помощью flake8. Задание нужно делать в jupyter notebook.\n",
        "\n",
        "**Дедлайн - 17 октбяря 10:00**"
      ]
    },
    {
      "cell_type": "markdown",
      "id": "aceaeda3",
      "metadata": {
        "id": "aceaeda3"
      },
      "source": [
        "В этом домашнем задании вам предстоит изучить и реализовать комбинированный алгоритм для сжатия матриц весов языковой модели, который включает три этапа:\n",
        "- **Квантизацию**\n",
        "- **Кодирование Хаффмана**\n",
        "- **Бит-паккинг**\n",
        "- **Запись и чтение в файл**\n",
        "\n",
        "Вам также необходимо будет реализовать обратную процедуру расжатия для восстановления матрицы до её исходного состояния. Пакетом `numpy` пользовать нельзя."
      ]
    },
    {
      "cell_type": "markdown",
      "id": "57834112",
      "metadata": {
        "ExecuteTime": {
          "end_time": "2024-10-09T05:00:11.856219Z",
          "start_time": "2024-10-09T05:00:11.846534Z"
        },
        "id": "57834112"
      },
      "source": [
        "Для начала сгенерируем нашу матрицу весов. Реализуйте функцию `generate_normal_weights_matrix`, которая будет генерировать матрицу случайных весов, где веса распределены нормально. Вам понадобится функция `random.gauss` для генерации случайных чисел из нормального распределения:"
      ]
    },
    {
      "cell_type": "code",
      "execution_count": 116,
      "id": "c5d91d52",
      "metadata": {
        "ExecuteTime": {
          "end_time": "2024-10-09T05:06:53.587975Z",
          "start_time": "2024-10-09T05:06:53.555396Z"
        },
        "id": "c5d91d52",
        "colab": {
          "base_uri": "https://localhost:8080/"
        },
        "outputId": "95fc302a-a8f0-424a-9939-00edc21f306f"
      },
      "outputs": [
        {
          "output_type": "execute_result",
          "data": {
            "text/plain": [
              "0.0782174316637409"
            ]
          },
          "metadata": {},
          "execution_count": 116
        }
      ],
      "source": [
        "import random\n",
        "\n",
        "mean = 0.0\n",
        "stddev = 0.1\n",
        "random.gauss(mean, stddev)"
      ]
    },
    {
      "cell_type": "markdown",
      "id": "0d3d9510",
      "metadata": {
        "id": "0d3d9510"
      },
      "source": [
        "```python\n",
        "weights_matrix = generate_normal_weights_matrix(5, 5)\n",
        "for row in weights_matrix:\n",
        "    print(row)\n",
        "[0.3000485326712691, 0.25965299191334695, -0.06755153631842248, 0.13020487844655038, 0.1143769419370928]\n",
        "[0.04287032494033407, 0.37860865986969466, -0.21154587156719093, 0.02538857794887883, 0.358874552698265]\n",
        "[-0.12730102686770312, -0.09250783210681686, -0.31943991155969786, -0.12649930568136855, -0.133368865014227]\n",
        "[-0.001125940850390421, 0.08131363950833258, -0.12099869191945688, 0.14554258117597563, 0.157276907472140]\n",
        "[-0.07352639207896368, 0.013629438616873364, -0.11502982664385775, 0.042140678513802377, 0.0980238501942050]\n",
        "```"
      ]
    },
    {
      "cell_type": "code",
      "execution_count": 117,
      "id": "8700dc2c",
      "metadata": {
        "ExecuteTime": {
          "end_time": "2024-10-09T05:04:54.769841Z",
          "start_time": "2024-10-09T05:04:54.749901Z"
        },
        "id": "8700dc2c"
      },
      "outputs": [],
      "source": [
        "def generate_normal_weights_matrix(rows, cols, mean=0.0, stddev=0.1):\n",
        "    pass"
      ]
    },
    {
      "cell_type": "code",
      "execution_count": 118,
      "id": "f09ac50d",
      "metadata": {
        "ExecuteTime": {
          "end_time": "2024-10-09T05:14:27.146581Z",
          "start_time": "2024-10-09T05:14:27.131189Z"
        },
        "id": "f09ac50d"
      },
      "outputs": [],
      "source": [
        "def generate_normal_weights_matrix(rows, cols, mean=0.0, stddev=0.1):\n",
        "    return [[random.gauss(mean, stddev) for _ in range(cols)] for _ in range(rows)]"
      ]
    },
    {
      "cell_type": "markdown",
      "id": "3d70d0c9",
      "metadata": {
        "id": "3d70d0c9"
      },
      "source": [
        "Для упрощения работы переведем двух мерный массив в одномерный."
      ]
    },
    {
      "cell_type": "code",
      "execution_count": 119,
      "id": "bd476b2d",
      "metadata": {
        "ExecuteTime": {
          "end_time": "2024-10-09T05:23:43.040519Z",
          "start_time": "2024-10-09T05:23:43.013204Z"
        },
        "id": "bd476b2d"
      },
      "outputs": [],
      "source": [
        "weights_matrix = generate_normal_weights_matrix(100, 100, mean, stddev)"
      ]
    },
    {
      "cell_type": "code",
      "execution_count": 120,
      "id": "8dffc34f",
      "metadata": {
        "ExecuteTime": {
          "end_time": "2024-10-09T05:23:43.831923Z",
          "start_time": "2024-10-09T05:23:43.804941Z"
        },
        "id": "8dffc34f"
      },
      "outputs": [],
      "source": [
        "weights = [weight for row in weights_matrix for weight in row]"
      ]
    },
    {
      "cell_type": "markdown",
      "id": "39aa42f5",
      "metadata": {
        "id": "39aa42f5"
      },
      "source": [
        "Проверим, что у нас получилось."
      ]
    },
    {
      "cell_type": "code",
      "execution_count": 121,
      "id": "79d8c10c",
      "metadata": {
        "ExecuteTime": {
          "end_time": "2024-10-09T05:23:45.447687Z",
          "start_time": "2024-10-09T05:23:45.268423Z"
        },
        "id": "79d8c10c",
        "colab": {
          "base_uri": "https://localhost:8080/",
          "height": 508
        },
        "outputId": "796a8b7c-7413-4c3c-f3f7-a2cba4e22109"
      },
      "outputs": [
        {
          "output_type": "display_data",
          "data": {
            "text/plain": [
              "<Figure size 800x600 with 1 Axes>"
            ],
            "image/png": "[encoded data removed]"
          },
          "metadata": {}
        }
      ],
      "source": [
        "import matplotlib.pyplot as plt\n",
        "import scipy.stats as stats\n",
        "import numpy as np\n",
        "plt.figure(figsize=(8, 6))\n",
        "count, bins, ignored = plt.hist(weights, bins=30, density=True, alpha=0.6, color='skyblue', edgecolor='black')\n",
        "\n",
        "# Добавление кривой плотности вероятности\n",
        "xmin, xmax = plt.xlim()\n",
        "x = np.linspace(xmin, xmax, 100)\n",
        "p = stats.norm.pdf(x, mean, stddev)  # Вычисление плотности вероятности\n",
        "plt.plot(x, p, 'r', linewidth=2)\n",
        "\n",
        "# Настройки графика\n",
        "plt.title(\"Нормально распределённая случайная величина\")\n",
        "plt.xlabel(\"Значение\")\n",
        "plt.ylabel(\"Плотность вероятности\")\n",
        "plt.grid(True)\n",
        "\n",
        "# Отображение графика\n",
        "plt.show()"
      ]
    },
    {
      "cell_type": "markdown",
      "id": "c709792d",
      "metadata": {
        "id": "c709792d"
      },
      "source": [
        "Приступим к сжатию этой матрицы!"
      ]
    },
    {
      "cell_type": "markdown",
      "id": "6bf29092",
      "metadata": {
        "id": "6bf29092"
      },
      "source": [
        "## Квантизация"
      ]
    },
    {
      "cell_type": "markdown",
      "id": "23b10d31",
      "metadata": {
        "id": "23b10d31"
      },
      "source": [
        "**Квантизация** — это процесс преобразования данных с высокой точностью (например, с 32-битного представления) в данные с более низкой точностью (например, 8-битное представление) для уменьшения объёма памяти и вычислительных ресурсов. В контексте машинного обучения, квантизация чаще всего применяется к весам нейронных сетей и их активациям для уменьшения размера модели и ускорения работы, особенно при выполнении инференса на мобильных устройствах и встраиваемых системах.\n"
      ]
    },
    {
      "cell_type": "markdown",
      "id": "587f18a9",
      "metadata": {
        "id": "587f18a9"
      },
      "source": [
        "### Цели квантизации:"
      ]
    },
    {
      "cell_type": "markdown",
      "id": "dc6692ac",
      "metadata": {
        "id": "dc6692ac"
      },
      "source": [
        "1.\t**Уменьшение объёма памяти:** Квантизация позволяет сократить объём памяти, занимаемый весами и другими параметрами модели, путём представления чисел с меньшей разрядностью.\n",
        "2.\t**Ускорение вычислений:** С помощью квантизации можно использовать специальные процессоры и ускорители (например, процессоры с поддержкой 8-битных вычислений), что увеличивает производительность.\n",
        "3.\t**Снижение энергопотребления:** Более короткие представления данных позволяют сократить энергопотребление при выполнении операций."
      ]
    },
    {
      "cell_type": "markdown",
      "id": "2aebd15c",
      "metadata": {
        "ExecuteTime": {
          "end_time": "2024-10-09T04:53:52.075792Z",
          "start_time": "2024-10-09T04:53:52.069839Z"
        },
        "id": "2aebd15c"
      },
      "source": [
        "### Как работает квантизация?"
      ]
    },
    {
      "cell_type": "markdown",
      "id": "4a0e0ebd",
      "metadata": {
        "ExecuteTime": {
          "end_time": "2024-10-09T04:54:00.111617Z",
          "start_time": "2024-10-09T04:54:00.091932Z"
        },
        "id": "4a0e0ebd"
      },
      "source": [
        "Квантизация заключается в преобразовании значений с высокой точностью (например, числа с плавающей точкой) в числа с меньшей точностью (например, целые числа). Существует несколько методов квантизации:\n",
        "\n",
        "1.\t**Униформная (равномерная) квантизация:** Простая и часто используемая техника, когда диапазон значений разделяется на равные интервалы (кванты), и каждое значение округляется до ближайшего значения из этого интервала.\n",
        "2.\t**Неравномерная квантизация:** Применяется, когда диапазон значений распределён неравномерно, и поэтому используются интервалы с разной шириной.\n",
        "3.\t**Квантизация во время обучения (quantization-aware training):** Модель обучается с учётом того, что её веса будут квантизированы. Это позволяет лучше подготовить модель к работе в условиях низкой точности.\n",
        "4.\t**Квантизация после обучения (post-training quantization):** Модель сначала обучается с полной точностью, а затем веса и активации квантизируются."
      ]
    },
    {
      "cell_type": "markdown",
      "id": "506869fc",
      "metadata": {
        "id": "506869fc"
      },
      "source": [
        "В данном домашнем задании мы рассмотри наиболее простой вариант - **равномерная квантизация**."
      ]
    },
    {
      "cell_type": "markdown",
      "id": "c628d8b7",
      "metadata": {
        "ExecuteTime": {
          "end_time": "2024-10-09T04:56:24.217639Z",
          "start_time": "2024-10-09T04:56:24.210506Z"
        },
        "id": "c628d8b7"
      },
      "source": [
        "### Пример униформной квантизации"
      ]
    },
    {
      "cell_type": "markdown",
      "id": "35389763",
      "metadata": {
        "id": "35389763"
      },
      "source": [
        "Предположим, у нас есть матрица весов, представленная в виде чисел с плавающей точкой, и мы хотим сократить количество бит, используемых для хранения этих значений."
      ]
    },
    {
      "cell_type": "markdown",
      "id": "4b4ea228",
      "metadata": {
        "id": "4b4ea228"
      },
      "source": [
        "#### Шаг 1: Определение диапазона значений"
      ]
    },
    {
      "cell_type": "markdown",
      "id": "b9a28f63",
      "metadata": {
        "id": "b9a28f63"
      },
      "source": [
        "Для начала определим минимальное и максимальное значение весов, чтобы определить диапазон:"
      ]
    },
    {
      "cell_type": "code",
      "execution_count": 122,
      "id": "a792887a",
      "metadata": {
        "ExecuteTime": {
          "end_time": "2024-10-09T05:23:55.123724Z",
          "start_time": "2024-10-09T05:23:55.104837Z"
        },
        "id": "a792887a",
        "colab": {
          "base_uri": "https://localhost:8080/"
        },
        "outputId": "9df63383-17d5-441c-90ea-ca23acd5bcec"
      },
      "outputs": [
        {
          "output_type": "stream",
          "name": "stdout",
          "text": [
            "Минимальное значение: -0.3725138762777822\n",
            "Максимальное значение: 0.32799396836372896\n"
          ]
        }
      ],
      "source": [
        "min_value = min(weights)\n",
        "max_value = max(weights)\n",
        "\n",
        "print(f\"Минимальное значение: {min_value}\")\n",
        "print(f\"Максимальное значение: {max_value}\")"
      ]
    },
    {
      "cell_type": "markdown",
      "id": "d9d2bde4",
      "metadata": {
        "ExecuteTime": {
          "end_time": "2024-10-09T05:18:21.710154Z",
          "start_time": "2024-10-09T05:18:21.681750Z"
        },
        "id": "d9d2bde4"
      },
      "source": [
        "#### Шаг 2: Определение шага квантизации"
      ]
    },
    {
      "cell_type": "markdown",
      "id": "0896540d",
      "metadata": {
        "id": "0896540d"
      },
      "source": [
        "Теперь мы определим шаг квантизации, который будет разделять диапазон на равные интервалы. Предположим, что мы хотим использовать 8-битное представление. Это даёт нам $256$ различных значений (так как $8$ бит позволяют хранить $2^8 = 256$ различных чисел).\n",
        "\n",
        "Шаг квантизации можно вычислить как:\n",
        "\n",
        "\n",
        "$$\\text{step} = \\frac{\\max - \\min}{2^8 - 1}$$\n"
      ]
    },
    {
      "cell_type": "code",
      "execution_count": 123,
      "id": "185b1ef9",
      "metadata": {
        "ExecuteTime": {
          "end_time": "2024-10-09T05:23:57.225217Z",
          "start_time": "2024-10-09T05:23:57.209530Z"
        },
        "id": "185b1ef9",
        "colab": {
          "base_uri": "https://localhost:8080/"
        },
        "outputId": "a2fbfac0-441b-4c27-8651-dd37bcc766a7"
      },
      "outputs": [
        {
          "output_type": "stream",
          "name": "stdout",
          "text": [
            "Шаг квантизации: 0.0027470895868294556\n"
          ]
        }
      ],
      "source": [
        "num_levels = 256  # Для 8 бит\n",
        "step = (max_value - min_value) / (num_levels - 1)\n",
        "print(f\"Шаг квантизации: {step}\")"
      ]
    },
    {
      "cell_type": "markdown",
      "id": "8018370a",
      "metadata": {
        "id": "8018370a"
      },
      "source": [
        "#### Шаг 3: Применение квантизации"
      ]
    },
    {
      "cell_type": "markdown",
      "id": "21bf45cc",
      "metadata": {
        "id": "21bf45cc"
      },
      "source": [
        "Теперь мы можем преобразовать каждое значение в его ближайший квантизированный уровень:\n",
        "\n",
        "\n",
        "$$\\text{quantized_value} = \\text{round} \\left( \\frac{\\text{value} - \\min}{\\text{step}} \\right)$$\n"
      ]
    },
    {
      "cell_type": "code",
      "execution_count": 124,
      "id": "3f06d260",
      "metadata": {
        "ExecuteTime": {
          "end_time": "2024-10-09T05:24:17.156817Z",
          "start_time": "2024-10-09T05:24:17.137187Z"
        },
        "id": "3f06d260",
        "colab": {
          "base_uri": "https://localhost:8080/"
        },
        "outputId": "8cbd1255-21d7-4fa8-c27c-44c0eabf6057"
      },
      "outputs": [
        {
          "output_type": "stream",
          "name": "stdout",
          "text": [
            "Квантизированные веса:\n",
            "{0, 7, 9, 17, 18, 20, 22, 23, 25, 26, 27, 28, 30, 31, 32, 33, 34, 35, 36, 38, 39, 41, 42, 44, 45, 46, 47, 48, 49, 50, 51, 52, 53, 54, 55, 56, 57, 58, 59, 60, 61, 62, 63, 64, 65, 66, 67, 68, 69, 70, 71, 72, 73, 74, 75, 76, 77, 78, 79, 80, 81, 82, 83, 84, 85, 86, 87, 88, 89, 90, 91, 92, 93, 94, 95, 96, 97, 98, 99, 100, 101, 102, 103, 104, 105, 106, 107, 108, 109, 110, 111, 112, 113, 114, 115, 116, 117, 118, 119, 120, 121, 122, 123, 124, 125, 126, 127, 128, 129, 130, 131, 132, 133, 134, 135, 136, 137, 138, 139, 140, 141, 142, 143, 144, 145, 146, 147, 148, 149, 150, 151, 152, 153, 154, 155, 156, 157, 158, 159, 160, 161, 162, 163, 164, 165, 166, 167, 168, 169, 170, 171, 172, 173, 174, 175, 176, 177, 178, 179, 180, 181, 182, 183, 184, 185, 186, 187, 188, 189, 190, 191, 192, 193, 194, 195, 196, 197, 198, 199, 200, 201, 202, 203, 204, 205, 206, 207, 208, 209, 210, 211, 212, 213, 214, 215, 216, 217, 218, 219, 220, 221, 222, 223, 224, 225, 226, 227, 228, 229, 230, 231, 232, 234, 235, 236, 238, 239, 240, 241, 242, 243, 244, 245, 247, 248, 251, 255}\n"
          ]
        }
      ],
      "source": [
        "quantized_weights = [round((weight - min_value) / step) for weight in weights]\n",
        "\n",
        "print(\"Квантизированные веса:\")\n",
        "print(set(quantized_weights))"
      ]
    },
    {
      "cell_type": "markdown",
      "id": "74783a4a",
      "metadata": {
        "ExecuteTime": {
          "end_time": "2024-10-09T05:25:27.273583Z",
          "start_time": "2024-10-09T05:25:27.261310Z"
        },
        "id": "74783a4a"
      },
      "source": [
        "#### Шаг 4: Обратное преобразование (деквантизация)"
      ]
    },
    {
      "cell_type": "markdown",
      "id": "ccedab85",
      "metadata": {
        "ExecuteTime": {
          "end_time": "2024-10-09T05:24:47.453178Z",
          "start_time": "2024-10-09T05:24:47.443421Z"
        },
        "id": "ccedab85"
      },
      "source": [
        "Чтобы восстановить оригинальные значения весов, необходимо преобразовать квантизированные значения обратно в их исходный диапазон:\n",
        "\n",
        "\n",
        "$$\\text{recovered_value} = \\text{quantized_value} \\times \\text{step} + \\min$$\n"
      ]
    },
    {
      "cell_type": "code",
      "execution_count": 125,
      "id": "a06dba7c",
      "metadata": {
        "ExecuteTime": {
          "end_time": "2024-10-09T05:26:16.498479Z",
          "start_time": "2024-10-09T05:26:16.481736Z"
        },
        "id": "a06dba7c",
        "colab": {
          "base_uri": "https://localhost:8080/"
        },
        "outputId": "e4b42a43-216c-4c61-9df6-a16be25ec7d5"
      },
      "outputs": [
        {
          "output_type": "stream",
          "name": "stdout",
          "text": [
            "Восстановленные веса:\n",
            "[-0.06483984255288316, -0.020886409163611896, -0.07308111131337153, 0.12470933893834923, -0.14725253015776685]\n"
          ]
        }
      ],
      "source": [
        "recovered_weights = [quantized_weight * step + min_value for quantized_weight in quantized_weights]\n",
        "\n",
        "print(\"Восстановленные веса:\")\n",
        "print(recovered_weights[:5])"
      ]
    },
    {
      "cell_type": "markdown",
      "id": "64c0be79",
      "metadata": {
        "id": "64c0be79"
      },
      "source": [
        "Посчитаем максимальную ошибку"
      ]
    },
    {
      "cell_type": "code",
      "execution_count": 126,
      "id": "ebd56e68",
      "metadata": {
        "ExecuteTime": {
          "end_time": "2024-10-09T05:27:23.774859Z",
          "start_time": "2024-10-09T05:27:23.757940Z"
        },
        "id": "ebd56e68",
        "colab": {
          "base_uri": "https://localhost:8080/"
        },
        "outputId": "631f8505-b89b-4afb-8ea0-4f4a905c0100"
      },
      "outputs": [
        {
          "output_type": "execute_result",
          "data": {
            "text/plain": [
              "0.0013735336328536407"
            ]
          },
          "metadata": {},
          "execution_count": 126
        }
      ],
      "source": [
        "max([abs(w - rw) for w, rw in zip(weights, recovered_weights)])"
      ]
    },
    {
      "cell_type": "markdown",
      "id": "dcf1091a",
      "metadata": {
        "id": "dcf1091a"
      },
      "source": [
        "На практике намного удобнее, когда мы можем контролировать ошибку, поэтому реализуйте методы квантизации и деквантизации, у которых будет параметр максимальной возможной ошибки между значениями для задания `step`."
      ]
    },
    {
      "cell_type": "code",
      "execution_count": 127,
      "id": "ab4d9f62",
      "metadata": {
        "ExecuteTime": {
          "end_time": "2024-10-09T05:36:04.481252Z",
          "start_time": "2024-10-09T05:36:04.469670Z"
        },
        "id": "ab4d9f62"
      },
      "outputs": [],
      "source": [
        "def quantize_weights(weights, max_error):\n",
        "    error = max_error + 1\n",
        "    num_levels = 1\n",
        "    while error > max_error:\n",
        "        num_levels += 1\n",
        "        min_value = min(weights)\n",
        "        max_value = max(weights)\n",
        "        step = (max_value - min_value) / (num_levels - 1)\n",
        "        quantized_weights = [round((weight - min_value) / step) for weight in weights]\n",
        "        recovered_weights = [quantized_weight * step + min_value for quantized_weight in quantized_weights]\n",
        "        error = max([abs(w - rw) for w, rw in zip(weights, recovered_weights)])\n",
        "    return quantized_weights, step, min_value\n",
        "\n",
        "def dequantize_weights(quantized_weights, step, min_value):\n",
        "    return [quantized_weight * step + min_value for quantized_weight in quantized_weights]"
      ]
    },
    {
      "cell_type": "code",
      "execution_count": 128,
      "id": "0c496347",
      "metadata": {
        "id": "0c496347"
      },
      "outputs": [],
      "source": [
        "max_error = 0.01\n",
        "quantized_weights, step, min_value = quantize_weights(weights, max_error)\n",
        "recovered_weights = dequantize_weights(quantized_weights, step, min_value)"
      ]
    },
    {
      "cell_type": "code",
      "source": [
        "step"
      ],
      "metadata": {
        "colab": {
          "base_uri": "https://localhost:8080/"
        },
        "id": "OMESr97E1hyn",
        "outputId": "08ea5bfa-704b-4bd9-ecb5-7135a2fd5e13"
      },
      "id": "OMESr97E1hyn",
      "execution_count": 129,
      "outputs": [
        {
          "output_type": "execute_result",
          "data": {
            "text/plain": [
              "0.019458551240041977"
            ]
          },
          "metadata": {},
          "execution_count": 129
        }
      ]
    },
    {
      "cell_type": "markdown",
      "id": "8fe991a8",
      "metadata": {
        "ExecuteTime": {
          "end_time": "2024-10-09T05:43:09.371245Z",
          "start_time": "2024-10-09T05:43:09.361618Z"
        },
        "id": "8fe991a8"
      },
      "source": [
        "## Кодирование Хаффмана"
      ]
    },
    {
      "cell_type": "markdown",
      "id": "c977f622",
      "metadata": {
        "id": "c977f622"
      },
      "source": [
        "**Кодирование Хаффмана** — это алгоритм сжатия данных, который используется для минимизации количества бит, необходимых для представления данных. Алгоритм Хаффмана является типом префиксного кодирования, где каждому символу данных назначается уникальная двоичная строка (код), и никакой код не является префиксом другого кода.\n",
        "\n",
        "Этот метод особенно полезен, когда некоторые символы встречаются чаще других. Хаффмановское кодирование назначает более короткие коды для часто встречающихся символов и более длинные коды для редких символов, что позволяет сжимать данные без потерь.\n",
        "\n",
        "Основные характеристики кодирования Хаффмана:\n",
        "\n",
        "- **Префиксный код:** никакой код не является префиксом другого кода, что позволяет однозначно декодировать последовательность.\n",
        "- **Оптимальность:** алгоритм Хаффмана даёт минимальную длину кодов для символов при известной частоте их появления.\n",
        "- **Дерево Хаффмана:** строится на основе частот символов, где часто встречающиеся символы находятся ближе к корню дерева.\n"
      ]
    },
    {
      "cell_type": "markdown",
      "id": "a139ea0e",
      "metadata": {
        "id": "a139ea0e"
      },
      "source": [
        "### Этапы работы алгоритма Хаффмана:"
      ]
    },
    {
      "cell_type": "markdown",
      "id": "0c262226",
      "metadata": {
        "id": "0c262226"
      },
      "source": [
        "1.\t**Подсчёт частот:** На первом шаге подсчитывается, как часто каждый символ встречается в данных.\n",
        "2.\t**Построение дерева Хаффмана:** Используя частоты символов, строится бинарное дерево. Символы с меньшими частотами располагаются дальше от корня дерева, а символы с более высокими частотами — ближе.\n",
        "3.\t**Назначение кодов:** Проходя от корня дерева к каждому листу (символу), алгоритм назначает каждому символу код: левой ветви присваивается “0”, а правой ветви — “1”. Таким образом, для каждого символа формируется уникальная двоичная строка.\n",
        "4.\t**Сжатие данных:** После того как к каждому символу присвоен код, данные можно сжать, заменив символы на соответствующие двоичные коды.\n",
        "5.\t**Декодирование:** Для восстановления исходных данных декодирование выполняется путём чтения двоичной строки и перемещения по дереву Хаффмана от корня до символа, который закодирован."
      ]
    },
    {
      "cell_type": "markdown",
      "id": "6c7445f9",
      "metadata": {
        "ExecuteTime": {
          "end_time": "2024-10-09T05:45:33.210649Z",
          "start_time": "2024-10-09T05:45:33.198962Z"
        },
        "id": "6c7445f9"
      },
      "source": [
        "### Пример работы алгоритма Хаффмана"
      ]
    },
    {
      "cell_type": "markdown",
      "id": "32bef6b3",
      "metadata": {
        "ExecuteTime": {
          "end_time": "2024-10-09T05:45:48.193399Z",
          "start_time": "2024-10-09T05:45:48.179365Z"
        },
        "id": "32bef6b3"
      },
      "source": [
        "Рассмотрим, как кодирование Хаффмана может быть применено к строке “ABRACADABRA”.\n",
        "\n",
        "**1.\tЧастоты символов:**\n",
        "Подсчитаем частоты каждого символа в строке:\n",
        "```python\n",
        "A: 5\n",
        "B: 2\n",
        "R: 2\n",
        "C: 1\n",
        "D: 1\n",
        "```"
      ]
    },
    {
      "cell_type": "markdown",
      "id": "7268f743",
      "metadata": {
        "ExecuteTime": {
          "end_time": "2024-10-09T05:46:27.271569Z",
          "start_time": "2024-10-09T05:46:27.245790Z"
        },
        "id": "7268f743"
      },
      "source": [
        "**2. Построение дерева Хаффмана:**\n",
        "- Начнем с того, что каждый символ представляется в виде узла дерева с весом, равным частоте появления символа.\n",
        "- На каждом шаге выбираются два узла с наименьшими частотами и объединяются в новый узел, вес которого равен сумме частот двух выбранных узлов. Этот процесс повторяется до тех пор, пока не будет построено одно дерево.\n",
        "\n",
        "Строим дерево Хаффмана:\n",
        "```python\n",
        "Шаг 1:   C:1  D:1 -> 2 (левое поддерево: C, правое поддерево: D)\n",
        "Шаг 2:   B:2  R:2 -> 4 (левое поддерево: B, правое поддерево: R)\n",
        "Шаг 3:   2 (CD)  4 (BR) -> 6\n",
        "Шаг 4:   A:5  6 (CD, BR) -> 11\n",
        "```\n",
        "\n",
        "Окончательное дерево Хаффмана выглядит следующим образом:\n",
        "\n",
        "```python\n",
        "      11\n",
        "     /  \\\n",
        "    A    6\n",
        "        /  \\\n",
        "      CD    BR\n",
        "      / \\   / \\\n",
        "     C   D B   R\n",
        "```"
      ]
    },
    {
      "cell_type": "markdown",
      "id": "23c7a010",
      "metadata": {
        "ExecuteTime": {
          "end_time": "2024-10-09T05:48:22.253234Z",
          "start_time": "2024-10-09T05:48:22.240270Z"
        },
        "id": "23c7a010"
      },
      "source": [
        "**3.\tНазначение кодов:**\n",
        "Теперь присвоим каждому символу код, начиная от корня дерева:\n",
        "- A: 0\n",
        "- C: 100\n",
        "- D: 101\n",
        "- B: 110\n",
        "- R: 111"
      ]
    },
    {
      "cell_type": "markdown",
      "id": "5011fa83",
      "metadata": {
        "id": "5011fa83"
      },
      "source": [
        "**4. Сжатие строки:**\n",
        "Используя полученные коды, мы можем закодировать строку “ABRACADABRA”:\n",
        "```python\n",
        "A -> 0\n",
        "B -> 110\n",
        "R -> 111\n",
        "A -> 0\n",
        "C -> 100\n",
        "A -> 0\n",
        "D -> 101\n",
        "A -> 0\n",
        "B -> 110\n",
        "R -> 111\n",
        "A -> 0\n",
        "```\n",
        "\n",
        "Закодированная строка: 0110111001000101101110"
      ]
    },
    {
      "cell_type": "markdown",
      "id": "327ac87e",
      "metadata": {
        "id": "327ac87e"
      },
      "source": [
        "Реализуйте методы `huffman_encode` и `huffman_decode` для кодирования и декодирования с помощью алгоритма Хаффмана."
      ]
    },
    {
      "cell_type": "markdown",
      "source": [
        "1. Составим список кодируемых символов, при этом будем рассматривать один символ как дерево, состоящее из одного элемента c весом, равным частоте появления символа в строке.\n",
        "2. Из списка выберем два узла с наименьшим весом.\n",
        "3. Сформируем новый узел с весом, равным сумме весов выбранных узлов, и присоединим к нему два выбранных узла в качестве детей.\n",
        "4. Добавим к списку только что сформированный узел вместо двух объединенных узлов.\n",
        "5. Если в списке больше одного узла, то повторим пункты со второго по пятый."
      ],
      "metadata": {
        "id": "rvM4rVAG5hBS"
      },
      "id": "rvM4rVAG5hBS"
    },
    {
      "cell_type": "code",
      "source": [
        "from collections import Counter\n",
        "import heapq"
      ],
      "metadata": {
        "id": "1FcG3X776Ptr"
      },
      "id": "1FcG3X776Ptr",
      "execution_count": 130,
      "outputs": []
    },
    {
      "cell_type": "code",
      "source": [
        "class node:\n",
        "    def __init__(self, symbol=\"\", freq=0, left=None, right=None):\n",
        "        self.symbol = symbol\n",
        "        self.freq = freq\n",
        "        self.left = left\n",
        "        self.right = right\n",
        "        self.huff = ''\n",
        "\n",
        "    def __lt__(self, nxt):\n",
        "        return self.freq < nxt.freq\n",
        "\n",
        "def huffman_tree(weights):\n",
        "    freqs = Counter(weights)\n",
        "    sort_freqs = sorted(freqs.items(), key=lambda item: (item[1]))\n",
        "    nodes = []\n",
        "    for sym, f in sort_freqs:\n",
        "        heapq.heappush(nodes, node(str(sym), f))\n",
        "\n",
        "    while len(nodes) > 1:\n",
        "        left = heapq.heappop(nodes)\n",
        "        right = heapq.heappop(nodes)\n",
        "        left.huff = 0\n",
        "        right.huff = 1\n",
        "        newNode = node(left.symbol+right.symbol, left.freq+right.freq, left, right)\n",
        "        heapq.heappush(nodes, newNode)\n",
        "    return nodes[0]\n",
        "\n",
        "\n",
        "def huff_codes(node, codes = dict(), code='', ):\n",
        "    new_code = code + str(node.huff)\n",
        "    if(node.left):\n",
        "        huff_codes(node.left, codes, new_code)\n",
        "    if(node.right):\n",
        "        huff_codes(node.right, codes, new_code)\n",
        "\n",
        "    if(not node.left and not node.right):\n",
        "        codes[node.symbol] = new_code\n",
        "    return codes"
      ],
      "metadata": {
        "id": "u8GMklrRGjnG"
      },
      "id": "u8GMklrRGjnG",
      "execution_count": 131,
      "outputs": []
    },
    {
      "cell_type": "code",
      "source": [
        "def huffman_encode(weights):\n",
        "    huff_tree = huffman_tree(weights)\n",
        "    codes = dict()\n",
        "    huff_dict = huff_codes(huff_tree, codes)\n",
        "    codes_list = list()\n",
        "    for sym in weights:\n",
        "        codes_list.append(huff_dict[str(sym)])\n",
        "    return \"\".join(codes_list), huff_dict\n",
        "\n",
        "\n",
        "def huffman_decode(encoded_data, huff_dict):\n",
        "    reverse_dict = {v: k for k, v in huff_dict.items()}\n",
        "    current_code = \"\"\n",
        "    decoded_data = []\n",
        "    for bit in encoded_data:\n",
        "        current_code += bit\n",
        "        if current_code in reverse_dict:\n",
        "            decoded_data.append(reverse_dict[current_code])\n",
        "            current_code = \"\"\n",
        "\n",
        "    return decoded_data"
      ],
      "metadata": {
        "id": "CujIXNsRLpVV"
      },
      "id": "CujIXNsRLpVV",
      "execution_count": 132,
      "outputs": []
    },
    {
      "cell_type": "code",
      "execution_count": 133,
      "id": "72ca617f",
      "metadata": {
        "id": "72ca617f",
        "colab": {
          "base_uri": "https://localhost:8080/"
        },
        "outputId": "29673e6f-0bf8-42c0-88c6-f0a9ac75e2df"
      },
      "outputs": [
        {
          "output_type": "stream",
          "name": "stdout",
          "text": [
            "Закодированные данные: 01101110100010101101110\n",
            "Декодированные данные: ['A', 'B', 'R', 'A', 'C', 'A', 'D', 'A', 'B', 'R', 'A']\n"
          ]
        }
      ],
      "source": [
        "data = \"ABRACADABRA\"\n",
        "encoded_data, huff_dict = huffman_encode(data)\n",
        "print(f\"Закодированные данные: {encoded_data}\")\n",
        "# Закодированные данные: 01101001110011110110100\n",
        "\n",
        "decoded_data = huffman_decode(encoded_data, huff_dict)\n",
        "print(f\"Декодированные данные: {decoded_data}\")\n",
        "# Декодированные данные: ABRACADABRA"
      ]
    },
    {
      "cell_type": "markdown",
      "source": [
        "По примеру сверху код совпадает\n",
        "\n",
        "по примеру сверху: 0110111001000101101110\n"
      ],
      "metadata": {
        "id": "EcbPb9mnTAWr"
      },
      "id": "EcbPb9mnTAWr"
    },
    {
      "cell_type": "markdown",
      "id": "20208470",
      "metadata": {
        "id": "20208470"
      },
      "source": [
        "#### Посчитаем Хаффмана на наших квантизированных весах"
      ]
    },
    {
      "cell_type": "code",
      "execution_count": 134,
      "id": "d806dd90",
      "metadata": {
        "id": "d806dd90"
      },
      "outputs": [],
      "source": [
        "encoded_data, huffman_dict = huffman_encode(quantized_weights)"
      ]
    },
    {
      "cell_type": "markdown",
      "id": "af9b2ac2",
      "metadata": {
        "ExecuteTime": {
          "end_time": "2024-10-09T05:57:14.081268Z",
          "start_time": "2024-10-09T05:57:14.071921Z"
        },
        "id": "af9b2ac2"
      },
      "source": [
        "## Бит пакинг"
      ]
    },
    {
      "cell_type": "markdown",
      "id": "7478ec04",
      "metadata": {
        "id": "7478ec04"
      },
      "source": [
        "**Бит-паккинг (bit-packing)** — это техника сжатия данных, при которой несколько чисел или символов, представленных в виде бит, “упаковываются” в одно или несколько целых чисел (байтов или слов) с целью минимизировать занимаемую память. Этот метод особенно эффективен, если числа или коды занимают меньше бит, чем стандартный размер ячейки памяти (например, 8 бит для байта или 32 бит для целого числа).\n"
      ]
    },
    {
      "cell_type": "markdown",
      "id": "0521045b",
      "metadata": {
        "ExecuteTime": {
          "end_time": "2024-10-09T06:12:12.023231Z",
          "start_time": "2024-10-09T06:12:12.015483Z"
        },
        "id": "0521045b"
      },
      "source": [
        "### Основная идея:"
      ]
    },
    {
      "cell_type": "markdown",
      "id": "269f6962",
      "metadata": {
        "id": "269f6962"
      },
      "source": [
        "Если каждая единица данных (например, число или символ) требует меньше бит, чем стандартная ячейка памяти, можно “упаковать” несколько таких единиц данных в одну ячейку, чтобы избежать потерь памяти на неиспользуемые биты. Это позволяет эффективно использовать пространство памяти и уменьшить общий объём данных."
      ]
    },
    {
      "cell_type": "markdown",
      "id": "b30cfb96",
      "metadata": {
        "id": "b30cfb96"
      },
      "source": [
        "### Пример использования бит-паккинга после кодирования Хаффмана"
      ]
    },
    {
      "cell_type": "markdown",
      "id": "10b5d931",
      "metadata": {
        "id": "10b5d931"
      },
      "source": [
        "После кодирования Хаффмана символы данных преобразуются в коды разной длины (в битах). Например, для часто встречающихся символов коды будут короткими (например, 2 или 3 бита), а для редких символов — длинными (например, 6 или 7 бит). Однако стандартные структуры данных Python (например, массивы байтов) используют 8-битные ячейки памяти, что может привести к неэффективному использованию памяти, если не применить бит-паккинг."
      ]
    },
    {
      "cell_type": "markdown",
      "id": "a3513423",
      "metadata": {
        "id": "a3513423"
      },
      "source": [
        "### Почему бит-паккинг полезен после кодирования Хаффмана?"
      ]
    },
    {
      "cell_type": "markdown",
      "id": "c4694c0b",
      "metadata": {
        "id": "c4694c0b"
      },
      "source": [
        "После кодирования Хаффмана мы получаем строку из 0 и 1 разной длины для каждого символа. Например:\n",
        "```python\n",
        "A -> 0\n",
        "B -> 110\n",
        "C -> 1001\n",
        "```\n",
        "\n",
        "Закодированная строка после Хаффмана может выглядеть так: 011011001. Если мы будем хранить эту строку побитно в стандартных байтах, это может занять больше места, чем нужно, так как каждый символ по умолчанию занимает 8 бит. Однако с помощью бит-паккинга можно эффективно “упаковать” эти коды в минимально возможное количество байтов."
      ]
    },
    {
      "cell_type": "markdown",
      "id": "d88d5710",
      "metadata": {
        "ExecuteTime": {
          "end_time": "2024-10-09T06:26:27.023772Z",
          "start_time": "2024-10-09T06:26:27.012803Z"
        },
        "id": "d88d5710"
      },
      "source": [
        "### Пример"
      ]
    },
    {
      "cell_type": "markdown",
      "id": "7f86dff2",
      "metadata": {
        "ExecuteTime": {
          "end_time": "2024-10-09T06:26:52.594045Z",
          "start_time": "2024-10-09T06:26:52.577393Z"
        },
        "id": "7f86dff2"
      },
      "source": [
        "Предположим, у нас есть коды:\n",
        "\n",
        "```python\n",
        "A -> 0 (1 бит)\n",
        "B -> 110 (3 бита)\n",
        "C -> 1001 (4 бита)\n",
        "```\n",
        "\n",
        "После кодирования строки “AABAC”, мы получаем последовательность бит: 0110110011001. Данная строка может быть запакована в 2 байта:\n",
        "- В первом байте хранится значение 01101101 (первые 8 бит).\n",
        "- Во втором байте хранится значение 10011000 (оставшиеся 5 бит и заполненные нулями).\n",
        "\n",
        "Реализуйте функцию `bit_packing`, которая упаковывает входную битовую строку в набор байт.\n",
        "\n",
        "```python\n",
        "encoded_data = \"0110110011001\"\n",
        "packed_data = bit_packing(encoded_data)\n",
        "\n",
        "print(f\"Упакованные данные: {packed_data}\")\n",
        "Упакованные данные: b'l\\xc8'\n",
        "print(f\"Длина упакованных данных: {len(packed_data)} байт\")\n",
        "Длина упакованных данных: 2 байт\n",
        "```"
      ]
    },
    {
      "cell_type": "code",
      "execution_count": 135,
      "id": "7829304c",
      "metadata": {
        "id": "7829304c"
      },
      "outputs": [],
      "source": [
        "def bit_packing(bit_string):\n",
        "    packed_data = bytearray()\n",
        "    for b_i in range(0, len(bit_string), 8):\n",
        "        byte = bit_string[b_i:b_i+8]\n",
        "        if len(byte) < 8:\n",
        "            byte = byte.ljust(8, '0')\n",
        "        packed_data.append(int(byte, 2))\n",
        "    return bytes(packed_data)"
      ]
    },
    {
      "cell_type": "code",
      "source": [
        "encoded_data = \"0110110011001\"\n",
        "packed_data = bit_packing(encoded_data)\n",
        "\n",
        "print(f\"Упакованные данные: {packed_data}\")\n",
        "# Упакованные данные: b'l\\xc8'\n",
        "print(f\"Длина упакованных данных: {len(packed_data)} байт\")\n",
        "# Длина упакованных данных: 2 байт"
      ],
      "metadata": {
        "colab": {
          "base_uri": "https://localhost:8080/"
        },
        "id": "zzB6EZpUgXdv",
        "outputId": "2c9db9b4-0945-4877-ea48-4842d567aeca"
      },
      "id": "zzB6EZpUgXdv",
      "execution_count": 136,
      "outputs": [
        {
          "output_type": "stream",
          "name": "stdout",
          "text": [
            "Упакованные данные: b'l\\xc8'\n",
            "Длина упакованных данных: 2 байт\n"
          ]
        }
      ]
    },
    {
      "cell_type": "markdown",
      "id": "b8861fa7",
      "metadata": {
        "id": "b8861fa7"
      },
      "source": [
        "Реализуйте функцию `bit_unpacking`, которая распаковывет набор байт в битовую строку.\n",
        "```python\n",
        "unpacked_data = bit_unpacking(packed_data)\n",
        "print(f\"Распакованные данные: {unpacked_data}\")\n",
        "Распакованные данные: 0110110011001000\n",
        "```"
      ]
    },
    {
      "cell_type": "code",
      "source": [
        "def bit_unpacking(packed_data):\n",
        "    bit_string = ''.join(f'{byte:08b}' for byte in packed_data)\n",
        "    return bit_string"
      ],
      "metadata": {
        "id": "0Vg1pqPQgSdQ"
      },
      "id": "0Vg1pqPQgSdQ",
      "execution_count": 137,
      "outputs": []
    },
    {
      "cell_type": "code",
      "source": [
        "unpacked_data = bit_unpacking(packed_data)\n",
        "print(f\"Распакованные данные: {unpacked_data}\")\n",
        "# Распакованные данные: 0110110011001000"
      ],
      "metadata": {
        "colab": {
          "base_uri": "https://localhost:8080/"
        },
        "id": "ArSrRYS9hKny",
        "outputId": "d098695d-a1d8-4486-b513-074be9871cce"
      },
      "id": "ArSrRYS9hKny",
      "execution_count": 138,
      "outputs": [
        {
          "output_type": "stream",
          "name": "stdout",
          "text": [
            "Распакованные данные: 0110110011001000\n"
          ]
        }
      ]
    },
    {
      "cell_type": "markdown",
      "id": "00106b96",
      "metadata": {
        "id": "00106b96"
      },
      "source": [
        "#### Теперь запакуем закодированные данные"
      ]
    },
    {
      "cell_type": "code",
      "execution_count": 139,
      "id": "cf921a6f",
      "metadata": {
        "id": "cf921a6f"
      },
      "outputs": [],
      "source": [
        "packed_data = bit_packing(encoded_data)"
      ]
    },
    {
      "cell_type": "markdown",
      "id": "88f2d9a4",
      "metadata": {
        "ExecuteTime": {
          "end_time": "2024-10-10T04:32:17.942365Z",
          "start_time": "2024-10-10T04:32:17.926218Z"
        },
        "id": "88f2d9a4"
      },
      "source": [
        "## Запись и чтение в файл"
      ]
    },
    {
      "cell_type": "markdown",
      "id": "114222e3",
      "metadata": {
        "ExecuteTime": {
          "end_time": "2024-10-10T04:34:50.101058Z",
          "start_time": "2024-10-10T04:34:50.085246Z"
        },
        "id": "114222e3"
      },
      "source": [
        "Работа с файлами в бинарном режиме в Python позволяет читать и записывать байты вместо текста. Это полезно для работы с бинарными данными, такими как изображения, аудиофайлы, видео, архивы и другие типы файлов, где данные представлены не в текстовом виде, а в виде байтов.\n",
        "\n",
        "### Открытие файлов в бинарном режиме\n",
        "\n",
        "Для открытия файла в бинарном режиме используются следующие режимы:\n",
        "\n",
        "- 'rb' — открыть файл для чтения в бинарном режиме.\n",
        "- 'wb' — открыть файл для записи в бинарном режиме (при этом файл перезаписывается).\n",
        "- 'ab' — открыть файл для добавления в бинарном режиме.\n",
        "- 'rb+' или 'wb+' — открыть файл для чтения и записи в бинарном режиме.\n",
        "\n",
        "### Кодирование и декодирование\n",
        "Когда вы открываете файл в бинарном режиме ('wb' или 'rb'), данные в этом файле хранятся и читаются в виде байтов. Символы в строках Python (тип str) не могут быть напрямую записаны в файл, потому что они хранятся в формате Unicode (например, UTF-8, UTF-16), а файлы оперируют байтовыми данными.\n",
        "\n",
        "- `encode()`: Преобразует строку Unicode в байты с использованием заданной кодировки (по умолчанию обычно UTF-8). Это нужно для записи текста в файл.\n",
        "- `decode()`: Преобразует байты обратно в строку Unicode, чтобы можно было прочитать текст из файла.\n",
        "\n",
        "Обратите внимание, что `packed_data` уже байты и их можно без кодирования и декодирования записывать в файл.\n"
      ]
    },
    {
      "cell_type": "markdown",
      "id": "7225b899",
      "metadata": {
        "id": "7225b899"
      },
      "source": [
        "### Пример 1: Запись в файл в бинарном режиме"
      ]
    },
    {
      "cell_type": "code",
      "execution_count": 140,
      "id": "1e555095",
      "metadata": {
        "ExecuteTime": {
          "end_time": "2024-10-10T04:57:29.280959Z",
          "start_time": "2024-10-10T04:57:29.268619Z"
        },
        "id": "1e555095"
      },
      "outputs": [],
      "source": [
        "with open('output.bin', 'wb') as f:\n",
        "    f.write(f\"{step:.6f}\\n\".encode())"
      ]
    },
    {
      "cell_type": "markdown",
      "id": "e34f006d",
      "metadata": {
        "id": "e34f006d"
      },
      "source": [
        "### Пример 2: Чтение файла в бинарном режиме"
      ]
    },
    {
      "cell_type": "code",
      "execution_count": 141,
      "id": "116026d1",
      "metadata": {
        "ExecuteTime": {
          "end_time": "2024-10-10T04:57:30.788657Z",
          "start_time": "2024-10-10T04:57:30.774142Z"
        },
        "id": "116026d1",
        "colab": {
          "base_uri": "https://localhost:8080/"
        },
        "outputId": "6f604609-57f3-4214-d242-16a859a25ef7"
      },
      "outputs": [
        {
          "output_type": "stream",
          "name": "stdout",
          "text": [
            "0.019459\n"
          ]
        }
      ],
      "source": [
        "# Открываем файл для чтения в бинарном режиме\n",
        "with open('output.bin', 'rb') as f:\n",
        "    step = float(f.readline().strip())\n",
        "    print(step)"
      ]
    },
    {
      "cell_type": "markdown",
      "id": "3e64863e",
      "metadata": {
        "id": "3e64863e"
      },
      "source": [
        "Реализуйте функцию `write_to_file` для сохранения матрицы в сжатом формате"
      ]
    },
    {
      "cell_type": "code",
      "execution_count": 142,
      "id": "cffe2e97",
      "metadata": {
        "ExecuteTime": {
          "end_time": "2024-10-10T05:05:11.881990Z",
          "start_time": "2024-10-10T05:05:11.873553Z"
        },
        "id": "cffe2e97"
      },
      "outputs": [],
      "source": [
        "import json\n",
        "import pickle\n",
        "\n",
        "def write_to_file(filename, packed_data, huffman_dict, step, min_value):\n",
        "    with open(filename, \"wb\") as f:\n",
        "        f.write(f\"{step:.5f}\\n\".encode())\n",
        "        f.write(f\"{min_value:.5f}\\n\".encode())\n",
        "\n",
        "        f.write(f\"{json.dumps(huffman_dict)}\\n\".encode())\n",
        "\n",
        "        f.write(packed_data)"
      ]
    },
    {
      "cell_type": "markdown",
      "id": "2dee710f",
      "metadata": {
        "ExecuteTime": {
          "end_time": "2024-10-10T05:21:51.771160Z",
          "start_time": "2024-10-10T05:21:51.755204Z"
        },
        "id": "2dee710f"
      },
      "source": [
        "#### Сохраним в файл сжатую матрицу и параметры для восстановления"
      ]
    },
    {
      "cell_type": "code",
      "execution_count": 143,
      "id": "a0abeed0",
      "metadata": {
        "ExecuteTime": {
          "end_time": "2024-10-10T05:09:41.954603Z",
          "start_time": "2024-10-10T05:09:41.944393Z"
        },
        "id": "a0abeed0"
      },
      "outputs": [],
      "source": [
        "compresed_filename = 'compressed_data.bin'"
      ]
    },
    {
      "cell_type": "code",
      "execution_count": 144,
      "id": "0ba37e3e",
      "metadata": {
        "id": "0ba37e3e"
      },
      "outputs": [],
      "source": [
        "write_to_file(compresed_filename, packed_data, huffman_dict, step, min_value)"
      ]
    },
    {
      "cell_type": "markdown",
      "id": "4a4b0f41",
      "metadata": {
        "id": "4a4b0f41"
      },
      "source": [
        "Реализуйте функцию `read_from_file` для чтения матрицы и сохраненной информации необходимой для восстановления матрицы."
      ]
    },
    {
      "cell_type": "code",
      "execution_count": 145,
      "id": "4e2fb75f",
      "metadata": {
        "id": "4e2fb75f"
      },
      "outputs": [],
      "source": [
        "def read_from_file(filename):\n",
        "    with open(filename, \"rb\") as f:\n",
        "        step = float(f.readline().decode().strip())\n",
        "        min_value = float(f.readline().decode().strip())\n",
        "\n",
        "        huffman_dict = json.loads(f.readline().decode().strip())\n",
        "\n",
        "        packed_data = f.read()\n",
        "\n",
        "    return packed_data, huffman_dict, step, min_value"
      ]
    },
    {
      "cell_type": "markdown",
      "id": "30942ae5",
      "metadata": {
        "ExecuteTime": {
          "end_time": "2024-10-10T05:22:35.802282Z",
          "start_time": "2024-10-10T05:22:35.791885Z"
        },
        "id": "30942ae5"
      },
      "source": [
        "#### Прочитаем файл и восстановим данные"
      ]
    },
    {
      "cell_type": "code",
      "execution_count": 146,
      "id": "9c5ee17a",
      "metadata": {
        "id": "9c5ee17a"
      },
      "outputs": [],
      "source": [
        "packed_data, huffman_dict, step, min_value = read_from_file(compresed_filename)\n",
        "unpacked_bits = bit_unpacking(packed_data)\n",
        "decoded_weights = huffman_decode(unpacked_bits, huffman_dict)\n",
        "decoded_weights = list(map(int, decoded_weights))\n",
        "recovered_weights = dequantize_weights(decoded_weights, step, min_value)"
      ]
    },
    {
      "cell_type": "markdown",
      "id": "a8a160cf",
      "metadata": {
        "ExecuteTime": {
          "end_time": "2024-10-10T05:24:02.925348Z",
          "start_time": "2024-10-10T05:24:02.915874Z"
        },
        "id": "a8a160cf"
      },
      "source": [
        "#### Посчитаем максимальную ошибку в полученных данных (во время квантизации мы теряли часть данных)"
      ]
    },
    {
      "cell_type": "code",
      "execution_count": 147,
      "id": "59ef1c16",
      "metadata": {
        "id": "59ef1c16",
        "colab": {
          "base_uri": "https://localhost:8080/"
        },
        "outputId": "04291fc3-4d98-404b-8116-eb22f58940eb"
      },
      "outputs": [
        {
          "output_type": "execute_result",
          "data": {
            "text/plain": [
              "0.185974882505183"
            ]
          },
          "metadata": {},
          "execution_count": 147
        }
      ],
      "source": [
        "max([abs(w - rw) for w, rw in zip(weights, recovered_weights)])"
      ]
    },
    {
      "cell_type": "markdown",
      "id": "493e1c44",
      "metadata": {
        "id": "493e1c44"
      },
      "source": [
        "#### Теперь посчитаем сколько весит сохраненные данные:"
      ]
    },
    {
      "cell_type": "code",
      "execution_count": 148,
      "id": "8d383cd1",
      "metadata": {
        "ExecuteTime": {
          "end_time": "2024-10-10T05:37:00.714074Z",
          "start_time": "2024-10-10T05:37:00.702289Z"
        },
        "id": "8d383cd1"
      },
      "outputs": [],
      "source": [
        "def get_size(filename):\n",
        "    return os.stat(filename).st_size / (1024 * 1024)"
      ]
    },
    {
      "cell_type": "code",
      "execution_count": 149,
      "id": "73de1f8a",
      "metadata": {
        "ExecuteTime": {
          "end_time": "2024-10-10T05:37:01.772354Z",
          "start_time": "2024-10-10T05:37:01.756816Z"
        },
        "id": "73de1f8a",
        "colab": {
          "base_uri": "https://localhost:8080/"
        },
        "outputId": "c68a6906-d16b-4f5e-ee1c-ee9a5fe10af5"
      },
      "outputs": [
        {
          "output_type": "stream",
          "name": "stdout",
          "text": [
            "Размер файла в мегабайтах 0.0006074905395507812\n"
          ]
        }
      ],
      "source": [
        "import os\n",
        "print(f'Размер файла в мегабайтах {get_size(compresed_filename)}')"
      ]
    },
    {
      "cell_type": "markdown",
      "id": "2f8fce2c",
      "metadata": {
        "ExecuteTime": {
          "end_time": "2024-10-10T05:12:35.663420Z",
          "start_time": "2024-10-10T05:12:35.650459Z"
        },
        "id": "2f8fce2c"
      },
      "source": [
        "Воспользуемся пакетом `struct` для упаковывания флотов в бинарный формат для оригинальных весов."
      ]
    },
    {
      "cell_type": "code",
      "execution_count": 150,
      "id": "15843b99",
      "metadata": {
        "ExecuteTime": {
          "end_time": "2024-10-10T05:37:04.016594Z",
          "start_time": "2024-10-10T05:37:03.998200Z"
        },
        "id": "15843b99"
      },
      "outputs": [],
      "source": [
        "import struct\n",
        "original_filename = 'original_data.bin'\n",
        "\n",
        "with open(compresed_filename, 'wb') as f:\n",
        "    for number in weights:\n",
        "        packed_data = struct.pack('f', number)\n",
        "        f.write(packed_data)"
      ]
    },
    {
      "cell_type": "code",
      "source": [
        "file_stats = os.stat(original_filename)\n",
        "file_stats"
      ],
      "metadata": {
        "colab": {
          "base_uri": "https://localhost:8080/"
        },
        "id": "w82sG2iC9sSb",
        "outputId": "6bc9ffbc-cfe5-44d2-bb26-83e304769bac"
      },
      "id": "w82sG2iC9sSb",
      "execution_count": 153,
      "outputs": [
        {
          "output_type": "execute_result",
          "data": {
            "text/plain": [
              "os.stat_result(st_mode=33188, st_ino=136218, st_dev=53, st_nlink=1, st_uid=0, st_gid=0, st_size=0, st_atime=1729126369, st_mtime=1729126247, st_ctime=1729126265)"
            ]
          },
          "metadata": {},
          "execution_count": 153
        }
      ]
    },
    {
      "cell_type": "code",
      "execution_count": 154,
      "id": "4fb3fb9f",
      "metadata": {
        "ExecuteTime": {
          "end_time": "2024-10-10T05:37:04.674079Z",
          "start_time": "2024-10-10T05:37:04.656859Z"
        },
        "id": "4fb3fb9f",
        "colab": {
          "base_uri": "https://localhost:8080/"
        },
        "outputId": "ca53546c-3ad9-464b-ce17-7a85e5328d93"
      },
      "outputs": [
        {
          "output_type": "stream",
          "name": "stdout",
          "text": [
            "Размер файла в мегабайтах 0.0\n"
          ]
        }
      ],
      "source": [
        "file_stats = os.stat(original_filename)\n",
        "print(f'Размер файла в мегабайтах {get_size(original_filename)}')"
      ]
    },
    {
      "cell_type": "markdown",
      "id": "5f50dca0",
      "metadata": {
        "id": "5f50dca0"
      },
      "source": [
        "# Поздравляю, языковые модели сжимать мы теперь умееем!"
      ]
    }
  ],
  "metadata": {
    "kernelspec": {
      "display_name": "Python 3 (ipykernel)",
      "language": "python",
      "name": "python3"
    },
    "language_info": {
      "codemirror_mode": {
        "name": "ipython",
        "version": 3
      },
      "file_extension": ".py",
      "mimetype": "text/x-python",
      "name": "python",
      "nbconvert_exporter": "python",
      "pygments_lexer": "ipython3",
      "version": "3.9.7"
    },
    "colab": {
      "provenance": []
    }
  },
  "nbformat": 4,
  "nbformat_minor": 5
}
