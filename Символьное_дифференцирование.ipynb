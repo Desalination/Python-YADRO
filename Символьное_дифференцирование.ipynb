{
  "cells": [
    {
      "cell_type": "markdown",
      "id": "e4d450c2",
      "metadata": {
        "id": "e4d450c2"
      },
      "source": [
        "# Символьное дифференцирование"
      ]
    },
    {
      "cell_type": "markdown",
      "id": "ca42b161",
      "metadata": {
        "ExecuteTime": {
          "end_time": "2024-11-12T17:23:33.620558Z",
          "start_time": "2024-11-12T17:23:33.612887Z"
        },
        "id": "ca42b161"
      },
      "source": [
        "## Порядок сдачи домашнего"
      ]
    },
    {
      "cell_type": "markdown",
      "id": "1ff1df47",
      "metadata": {
        "id": "1ff1df47"
      },
      "source": [
        "Под каждое домашнее вы создаете отдельную ветку куда вносите все изменения в рамках домашнего. Как только домашнее готово - создаете пулл реквест (обратите внимание что в пулл реквесте должны быть отражены все изменения в рамках домашнего). Ревьювера назначаете из таблицы - https://docs.google.com/spreadsheets/d/1vK6IgEqaqXniUJAQOOspiL_tx3EYTSXW1cUrMHAZFr8/edit?gid=0#gid=0\n",
        "Перед сдачей проверьте код, напишите тесты. Не забудьте про PEP8, например, с помощью flake8. Задание нужно делать в jupyter notebook.\n",
        "\n",
        "**Дедлайн - 18 ноября 10:00**"
      ]
    },
    {
      "cell_type": "markdown",
      "id": "f9fd13a2",
      "metadata": {
        "id": "f9fd13a2"
      },
      "source": [
        "Символьное дифференцирование это инструмент для автоматического вывода формул производных, который открывает возможности для анализа сложных функций, оптимизации процессов и работы с уравнениями. Мы уже на многих занятиях сталкивались с этой темой - давайте попробуем реализовать собственное!"
      ]
    },
    {
      "cell_type": "markdown",
      "id": "cf3ccecf",
      "metadata": {
        "id": "cf3ccecf"
      },
      "source": [
        "## Выражение"
      ]
    },
    {
      "cell_type": "markdown",
      "id": "096fa612",
      "metadata": {
        "id": "096fa612"
      },
      "source": [
        "Создадим основной класс `Expr`, от которого будут наследоваться различные типы выражений, такие как константы, переменные, суммы, произведения и другие. Класс должен содержать методы:\n",
        "* `__call__`, который будет вычислять значение выражения, используя переданный ему контекст (словарь, связывающий имена переменных с их значениями).\n",
        "* `d`, принимающий имя переменной, по которой требуется вычислить производную, и возвращающий выражение, представляющее производную по этой переменной.\n",
        "\n",
        "Эти методы нужно будет переопределить в каждом из подклассов для корректного выполнения операций."
      ]
    },
    {
      "cell_type": "code",
      "execution_count": null,
      "id": "7c73322e",
      "metadata": {
        "ExecuteTime": {
          "end_time": "2024-11-12T16:51:15.514301Z",
          "start_time": "2024-11-12T16:51:15.489368Z"
        },
        "id": "7c73322e"
      },
      "outputs": [],
      "source": [
        "class Expr:\n",
        "    def __call__(self, **context):\n",
        "        pass\n",
        "\n",
        "    def d(self, var):\n",
        "          pass\n",
        "\n",
        "    def __add__(self, other):\n",
        "        return Sum(self, other)\n",
        "\n",
        "    def __mul__(self, other):\n",
        "        return Product(self, other)\n",
        "\n",
        "    def __truediv__(self, other):\n",
        "        return Fraction(self, other)\n",
        "\n",
        "    def __sub__(self, other):\n",
        "        return self + Const(-1)*other"
      ]
    },
    {
      "cell_type": "markdown",
      "id": "1a3f58d5",
      "metadata": {
        "id": "1a3f58d5"
      },
      "source": [
        "Создайте классы для двух видов выражений: `Const`, представляющий константу, и` Var`, представляющий переменную. Чтобы упростить использование, вместо обращения к конструкторам этих классов, будем использовать их однобуквенные сокращённые обозначения.\n",
        "\n",
        "**Пример использования:**\n",
        "```python\n",
        "V = Var\n",
        "C = Const\n",
        "\n",
        "C(5)()\n",
        "5\n",
        "C(5).d(V(\"x\"))()\n",
        "0\n",
        "V(\"x\")(x=5)\n",
        "5\n",
        "V(\"x\").d(V(\"y\"))(x=5)\n",
        "0\n",
        "V(\"x\").d(V(\"x\"))(x=5)\n",
        "1\n",
        "```"
      ]
    },
    {
      "cell_type": "code",
      "execution_count": null,
      "id": "aa4e32b4",
      "metadata": {
        "ExecuteTime": {
          "end_time": "2024-11-12T16:42:49.906141Z",
          "start_time": "2024-11-12T16:42:49.888604Z"
        },
        "id": "aa4e32b4"
      },
      "outputs": [],
      "source": [
        "class Const(Expr):\n",
        "    def __init__(self, const):\n",
        "        self.const = const\n",
        "\n",
        "    def __call__(self, **context):\n",
        "        return self.const\n",
        "\n",
        "    def d(self, var):\n",
        "          return Const(0)\n",
        "\n",
        "class Var(Expr):\n",
        "    def __init__(self, var):\n",
        "        self.var = var\n",
        "\n",
        "    def __call__(self, **context):\n",
        "        return context[self.var]\n",
        "\n",
        "    def d(self, var):\n",
        "          if self.var == var.var:\n",
        "              return Const(1)\n",
        "          return Const(0)\n",
        "\n",
        "V = Var\n",
        "C = Const"
      ]
    },
    {
      "cell_type": "code",
      "source": [
        "V = Var\n",
        "C = Const"
      ],
      "metadata": {
        "id": "ChfAwU0NL6QL"
      },
      "id": "ChfAwU0NL6QL",
      "execution_count": null,
      "outputs": []
    },
    {
      "cell_type": "code",
      "source": [
        "assert C(5)() == 5\n",
        "assert C(5).d(V(\"x\"))() == 0\n",
        "assert V(\"x\")(x=5) == 5\n",
        "assert V(\"x\").d(V(\"y\"))(x=5) == 0\n",
        "assert V(\"x\").d(V(\"x\"))(x=5) == 1"
      ],
      "metadata": {
        "id": "iknR_DejMIOI"
      },
      "id": "iknR_DejMIOI",
      "execution_count": null,
      "outputs": []
    },
    {
      "cell_type": "markdown",
      "id": "4a4c72ce",
      "metadata": {
        "id": "4a4c72ce"
      },
      "source": [
        "## Бинарные операции"
      ]
    },
    {
      "cell_type": "markdown",
      "id": "f87be166",
      "metadata": {
        "id": "f87be166"
      },
      "source": [
        "Создайте классы для бинарных операций: `Sum`, `Product` и `Fraction`. Поскольку бинарные операции определяются двумя операндами, их конструктор будет одинаковым для всех этих классов. Поэтому его можно вынести в отдельный базовый класс, чтобы избежать дублирования кода."
      ]
    },
    {
      "cell_type": "code",
      "execution_count": null,
      "id": "6aaf6b13",
      "metadata": {
        "ExecuteTime": {
          "end_time": "2024-11-12T16:51:24.856165Z",
          "start_time": "2024-11-12T16:51:24.844203Z"
        },
        "id": "6aaf6b13"
      },
      "outputs": [],
      "source": [
        "class BinOp(Expr):\n",
        "    def __init__(self, expr1, expr2):\n",
        "        self.expr1 = expr1\n",
        "        self.expr2 = expr2"
      ]
    },
    {
      "cell_type": "markdown",
      "id": "3e335e95",
      "metadata": {
        "id": "3e335e95"
      },
      "source": [
        "Реализуйте `Sum` для суммирования, `Product` для умножения и `Fraction` для деления.\n",
        "\n",
        "**Пример использования:**\n",
        "\n",
        "```python\n",
        "Sum(V(\"x\"), Fraction(V(\"x\"), V(\"y\")))(x=5, y=2.5)\n",
        "7.0\n",
        "Fraction(Sum(C(5), V(\"y\")), Product(V(\"x\"), V(\"y\")))(x=1, y=2)\n",
        "3.5\n",
        "Fraction(Sum(C(5), V(\"y\")), Product(V(\"x\"), V(\"y\"))).d(V(\"x\"))(x=1, y=2)\n",
        "-3.5\n",
        "Fraction(Sum(C(5), V(\"y\")), Product(V(\"x\"), V(\"y\"))).d(V(\"y\"))(x=1, y=2)\n",
        "-1.25\n",
        "```"
      ]
    },
    {
      "cell_type": "code",
      "execution_count": 56,
      "id": "cc5c5599",
      "metadata": {
        "id": "cc5c5599"
      },
      "outputs": [],
      "source": [
        "class Sum(BinOp):\n",
        "    def __call__(self, **context):\n",
        "        return self.expr1(**context) + self.expr2(**context)\n",
        "\n",
        "    def d(self, var):\n",
        "        return Sum(self.expr1.d(var), self.expr2.d(var))\n",
        "\n",
        "class Product(BinOp):\n",
        "    def __call__(self, **context):\n",
        "        return self.expr1(**context) * self.expr2(**context)\n",
        "\n",
        "    def d(self, var):\n",
        "        u = self.expr1\n",
        "        du = self.expr1.d(var)\n",
        "        v = self.expr2\n",
        "        dv = self.expr2.d(var)\n",
        "        return u*dv + v*du\n",
        "\n",
        "class Fraction(BinOp):\n",
        "    def __call__(self, **context):\n",
        "        return self.expr1(**context) / self.expr2(**context)\n",
        "\n",
        "    def d(self, var):\n",
        "        u = self.expr1\n",
        "        du = self.expr1.d(var)\n",
        "        v = self.expr2\n",
        "        dv = self.expr2.d(var)\n",
        "        return (du*v - dv*u)/(v * v)"
      ]
    },
    {
      "cell_type": "code",
      "source": [
        "assert Sum(V(\"x\"), Fraction(V(\"x\"), V(\"y\")))(x=5, y=2.5) == 7\n",
        "assert Fraction(Sum(C(5), V(\"y\")), Product(V(\"x\"), V(\"y\")))(x=1, y=2) == 3.5\n",
        "assert Fraction(Sum(C(5), V(\"y\")), Product(V(\"x\"), V(\"y\"))).d(V(\"x\"))(x=1, y=2) == -3.5\n",
        "assert Fraction(Sum(C(5), V(\"y\")), Product(V(\"x\"), V(\"y\"))).d(V(\"y\"))(x=1, y=2) == -1.25"
      ],
      "metadata": {
        "id": "ITHlAS--OAfx"
      },
      "id": "ITHlAS--OAfx",
      "execution_count": 61,
      "outputs": []
    },
    {
      "cell_type": "markdown",
      "id": "68648251",
      "metadata": {
        "id": "68648251"
      },
      "source": [
        "## Перегрузка операторов"
      ]
    },
    {
      "cell_type": "markdown",
      "id": "49be6b43",
      "metadata": {
        "ExecuteTime": {
          "end_time": "2024-11-12T16:56:10.954760Z",
          "start_time": "2024-11-12T16:56:10.934054Z"
        },
        "id": "49be6b43"
      },
      "source": [
        "Добавьте перегрузку операторов в базовых класс `Expr`. Обратите что в классах мы можем тоже заменить на использование операторов.\n",
        "```python  \n",
        "-e         e.__neg__()\n",
        "+e         e.__pos__()\n",
        "e1 + e2    e1.__add__(e2)\n",
        "e1 - e2    e1.__sub__(e2)\n",
        "e1 * e2    e1.__mul__(e2)\n",
        "e1 / e2    e1.__truediv__(e2)\n",
        "```\n",
        "\n",
        "**Пример использования:**\n",
        "\n",
        "```python\n",
        "(V(\"x\") * V(\"x\") / V(\"y\"))(x=5, y=2.5)\n",
        "10.0\n",
        "```"
      ]
    },
    {
      "cell_type": "code",
      "source": [
        "assert (V(\"x\") * V(\"x\") / V(\"y\"))(x=5, y=2.5) == 10"
      ],
      "metadata": {
        "id": "0Qn75jSOQ-Ir"
      },
      "id": "0Qn75jSOQ-Ir",
      "execution_count": 62,
      "outputs": []
    },
    {
      "cell_type": "markdown",
      "id": "d8c4e847",
      "metadata": {
        "ExecuteTime": {
          "end_time": "2024-11-12T17:15:20.644716Z",
          "start_time": "2024-11-12T17:15:20.631450Z"
        },
        "id": "d8c4e847"
      },
      "source": [
        "## Метод Ньютона-Рафсона"
      ]
    },
    {
      "cell_type": "markdown",
      "id": "c2ff4b5b",
      "metadata": {
        "id": "c2ff4b5b"
      },
      "source": [
        "Напишите функцию `newton_raphson`, которая принимает дифференцируемую функцию  $f$  от переменной  $x$ , начальное приближение  $x_0$ , и положительное число  $\\epsilon$ , задающее точность вычислений. Функция должна возвращать значение  $x$ , при котором  $f(x)$  становится равным нулю. Метод Ньютона-Рафсона выполняет итеративный поиск корня функции  $f(x)$ , начиная с начального значения  $x_0$ , и использует правило  \n",
        "$$x_{n+1} = x_n - \\frac{f(x_n)}{f{\\prime}(x_n)}$$  \n",
        "для обновления  $x$  на каждом шаге. Итерации продолжаются до тех пор, пока условие остановки  $|x_{n+1} - x_n| \\leq \\epsilon$  не будет выполнено.\n",
        "\n",
        "**Пример использования:**\n",
        "\n",
        "```python\n",
        "x = Var(\"x\")\n",
        "f = Const(-5) * x * x * x * x * x + Const(3) * x + Const(2)\n",
        "zero = newton_raphson(f, 0.5, eps=1e-4)\n",
        "zero, f(x=zero)\n",
        "(1.000000000001132, -2.490496697760136e-11)\n",
        "```"
      ]
    },
    {
      "cell_type": "code",
      "execution_count": 64,
      "id": "5e185229",
      "metadata": {
        "id": "5e185229"
      },
      "outputs": [],
      "source": [
        "def newton_raphson(f, x0, eps=1e-4):\n",
        "    x = V(\"x\")\n",
        "    prev = x0\n",
        "    xn = x0 + 2 * eps\n",
        "    g = x - (f/f.d(x))\n",
        "    while abs(xn - prev) > eps:\n",
        "        prev = xn\n",
        "        xn = g(x=xn)\n",
        "    return xn"
      ]
    },
    {
      "cell_type": "code",
      "source": [
        "x = Var(\"x\")\n",
        "f = Const(-5) * x * x * x * x * x + Const(3) * x + Const(2)\n",
        "zero = newton_raphson(f, 0.5, eps=1e-4)\n",
        "assert (zero, f(x=zero)) == (1.000000000001132, -2.490496697760136e-11)"
      ],
      "metadata": {
        "id": "E3OwOq3hRT53"
      },
      "id": "E3OwOq3hRT53",
      "execution_count": 63,
      "outputs": []
    }
  ],
  "metadata": {
    "kernelspec": {
      "display_name": "Python 3 (ipykernel)",
      "language": "python",
      "name": "python3"
    },
    "language_info": {
      "codemirror_mode": {
        "name": "ipython",
        "version": 3
      },
      "file_extension": ".py",
      "mimetype": "text/x-python",
      "name": "python",
      "nbconvert_exporter": "python",
      "pygments_lexer": "ipython3",
      "version": "3.9.7"
    },
    "colab": {
      "provenance": []
    }
  },
  "nbformat": 4,
  "nbformat_minor": 5
}